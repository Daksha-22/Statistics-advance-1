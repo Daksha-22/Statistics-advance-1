{
  "nbformat": 4,
  "nbformat_minor": 0,
  "metadata": {
    "colab": {
      "provenance": []
    },
    "kernelspec": {
      "name": "python3",
      "display_name": "Python 3"
    },
    "language_info": {
      "name": "python"
    }
  },
  "cells": [
    {
      "cell_type": "markdown",
      "source": [
        "  Q1. What is a random variable in probability theory?\n",
        "\n",
        "Ans: In probability theory, a random variable is a function that assigns a numerical value to each possible outcome of a random experiment.\n",
        "\n",
        "Example: Rolling a dice\n",
        "- sample space = (1,2,3,4,5,6)\n",
        "- define X as the number shown on the dice\n",
        "- if the dice shows 1, then X = 1\n",
        "   \n",
        "  if it shows 4, then X = 4\n",
        "\n",
        "- So X is the random variable taking values1,2,3,4,5,6."
      ],
      "metadata": {
        "id": "fYlS_4BcLpUF"
      }
    },
    {
      "cell_type": "markdown",
      "source": [
        "Q2. : What are the types of random variables?\n",
        "\n",
        "Ans: There are two types of Random Variable:\n",
        "\n",
        "- Discrete Random Variable\n",
        "- Continuous Random Variable\n",
        "\n",
        "1. Discrete Random Variable\n",
        "\n",
        "- Takes countable values (finite or countably infinite).\n",
        "\n",
        "- Each possible value has an associated probability.\n",
        "\n",
        "- Represented using a probability mass function (PMF).\n",
        "\n",
        "Examples:\n",
        "\n",
        "- Number of heads in 5 coin tosses (\n",
        "0\n",
        ",\n",
        "1\n",
        ",\n",
        "2\n",
        ",\n",
        "3\n",
        ",\n",
        "4\n",
        ",\n",
        "5\n",
        ")\n",
        "\n",
        "- Number of customers arriving at a shop in an hour\n",
        "\n",
        "Rolling a fair die (\n",
        "1\n",
        ",\n",
        "2\n",
        ",\n",
        "3\n",
        ",\n",
        "4\n",
        ",\n",
        "5\n",
        ",\n",
        "6\n",
        ")\n",
        "\n",
        "2. Continuous Random Variable\n",
        "\n",
        "- Takes values from an interval (uncountably infinite set) on the real number line.\n",
        "\n",
        "- The probability of any single exact value is zero; probabilities are assigned over intervals.\n",
        "\n",
        "- Represented using a probability density function (PDF).\n",
        "\n",
        "Examples:\n",
        "\n",
        "- Height or weight of a person\n",
        "\n",
        "- Time taken to complete a task\n",
        "\n",
        "- Temperature at a given location\n",
        "\n"
      ],
      "metadata": {
        "id": "sz3ySIDMP6ub"
      }
    },
    {
      "cell_type": "markdown",
      "source": [
        "Q3. Explain the difference between discrete and continuous distributions.\n",
        "\n",
        "Ans: 1. Discrete Distributions:\n",
        "\n",
        "Variables can only take on a finite or countably infinite number of distinct, separate values.\n",
        "\n",
        "Examples:\n",
        "\n",
        "The number of students in a class, the roll of a die (1, 2, 3, 4, 5, or 6), or the number of cars passing a point.\n",
        "\n",
        "2. Continuous Distributions:\n",
        "Variables can take on any value within a given range or interval.\n",
        "\n",
        "Examples:\n",
        "\n",
        "Height, weight, temperature, or time, which can have any value within a range (e.g., 1.75 meters, 2.35 kg).\n"
      ],
      "metadata": {
        "id": "wzLD0eANTVxL"
      }
    },
    {
      "cell_type": "markdown",
      "source": [
        "Q4. What is a binomial distribution, and how is it used in probability?\n",
        "\n",
        "Ans:A binomial distribution is a statistical tool used to find the probability of a specific number of \"successes\" in a fixed number of independent trials, where each trial has only two possible outcomes (success or failure) and the probability of success remains constant for each trial. It's used in probability to model events like coin flips, product quality, or survey responses.\n",
        "\n",
        "How it works in probability:\n",
        "\n",
        "- Fixed number of trials (n): The experiment or process is repeated a specific, predetermined number of times.\n",
        "- Two possible outcomes: Each trial results in either a \"success\" or a \"failure\".\n",
        "- Independence: The outcome of one trial does not affect the outcome of any other trial.\n",
        "- Constant probability of success (p): The probability of success is the same for every trial.\n",
        "\n",
        "How it is used:\n",
        "\n",
        "The binomial distribution is used to calculate the probability of obtaining a specific number of successes in a series of binomial trials.\n",
        "\n",
        "Example: Coin Flips\n",
        "\n",
        "Scenario: You flip a fair coin 10 times.\n",
        "\n",
        "Binomial Setup:\n",
        "\n",
        "n = 10 (number of flips)\n",
        "\n",
        "p = 0.5 (probability of getting heads, which is a success)\n",
        "\n",
        "q = 0.5 (probability of getting tails, which is a failure)\n",
        "\n",
        "Application: You could use the binomial distribution to find the probability of getting exactly 7 heads in those 10 flips."
      ],
      "metadata": {
        "id": "L6CF8raX4HLZ"
      }
    },
    {
      "cell_type": "markdown",
      "source": [
        "Q5. What is the standard normal distribution, and why is it important?\n",
        "\n",
        "Ans: The standard normal distribution is a specific normal distribution with a mean of 0 and a standard deviation of 1, often visualized as a bell curve. It is important because it provides a standardized framework to find probabilities and compare data points from any normal distribution by converting them into z-scores, which represent the number of standard deviations a value is from the mean.\n",
        "\n",
        "Why it's important:\n",
        "\n",
        "Standardization:\n",
        "\n",
        "It converts data from any normal distribution into a common scale, allowing for consistent analysis.\n",
        "Probability calculations:\n",
        "It enables the calculation of probabilities for data points falling within a certain range using a z-table (standard normal table).\n",
        "\n",
        "Comparison of data:\n",
        "\n",
        "It allows for the comparison of observations from different normal distributions that have varying means and standard deviations, as demonstrated with height and battery life examples.\n",
        "\n",
        "Foundation for statistical methods:\n",
        "\n",
        "It is fundamental for statistical methods like hypothesis testing (e.g., z-tests), percentile estimation, and confidence interval estimation.\n",
        "\n",
        "Z-scores:\n",
        "\n",
        "Individual data points from any normal distribution are transformed into z-scores, which show how many standard deviations they are from their respective mean, making them directly comparable on the standard normal distribution.\n"
      ],
      "metadata": {
        "id": "oDvSwynZ7O6D"
      }
    },
    {
      "cell_type": "markdown",
      "source": [
        "Q6.What is the Central Limit Theorem (CLT), and why is it critical in statistics?\n",
        "\n",
        "Ans:The Central Limit Theorem (CLT) states that when you take sufficiently large random samples from a population, regardless of the population's original distribution, the distribution of the sample means will approximate a normal distribution. This is critical because it allows statisticians to use statistical methods that assume normality (like t-tests and confidence intervals) to make reliable inferences about a population, even when the underlying data is not normally distributed, thereby underpinning much of modern statistics.\n",
        "\n",
        "Why the CLT is critical:\n",
        "\n",
        "Justifies normal-based methods:\n",
        "\n",
        "Many powerful statistical tests and estimation techniques, such as confidence intervals and hypothesis tests, assume that the data being analyzed is normally distributed.\n",
        "\n",
        "Enables inference with non-normal data:\n",
        "\n",
        "The CLT provides a mathematical justification for using these normal-based methods even when the original population data is not normally distributed.\n",
        "\n",
        "Underpins much of statistical practice:\n",
        "\n",
        "Because so many real-world datasets do not conform to a normal distribution, the CLT is fundamental to making reliable inferences, conducting meaningful analysis, and making decisions in fields like medicine, finance, and engineering.\n"
      ],
      "metadata": {
        "id": "bR2NdwEw9lAw"
      }
    },
    {
      "cell_type": "markdown",
      "source": [
        "Q7.What is the significance of confidence intervals in statistical analysis?\n",
        "\n",
        "Ans:Confidence intervals are significant in statistical analysis because they quantify the uncertainty around a sample estimate, providing a range of values that is likely to contain the true population parameter.\n",
        "\n",
        "Significance of Confidence Intervals:\n",
        "\n",
        "1.More Informative than a Point Estimate\n",
        "\n",
        "Instead of just giving a single estimate (e.g., “the average test score is 75”), a CI provides a range (e.g., “the average score is between 72 and 78 with 95% confidence”).\n",
        "\n",
        "This acknowledges sampling variability.\n",
        "\n",
        "2.Quantifies Uncertainty\n",
        "\n",
        "A CI reflects the precision of the estimate:\n",
        "\n",
        "Narrow interval → high precision.\n",
        "\n",
        "Wide interval → low precision.\n",
        "\n",
        "It helps us understand how much trust we can place in the estimate.\n",
        "\n",
        "3.Basis for Decision Making\n",
        "\n",
        "In hypothesis testing: if the CI does not include the null hypothesis value (e.g.,\n",
        "𝜇\n",
        "0\n",
        "), we can reject it.\n",
        "\n",
        "For example: if a 95% CI for the mean difference is (2.1, 5.7), we can confidently say the difference is positive.\n",
        "\n",
        "4.Practical Applications\n",
        "\n",
        "Used in medicine (drug effectiveness ranges), economics (GDP growth estimates), engineering (tolerances), business (customer satisfaction rates), etc.\n",
        "\n",
        "5.Interpretability\n",
        "\n",
        "A 95% CI means: If we repeated the sampling many times, about 95% of those confidence intervals would contain the true population parameter.\n",
        "\n",
        "It is not a guarantee that the true value lies within the range for one sample, but it gives a probabilistic framework for uncertainty."
      ],
      "metadata": {
        "id": "1CK8QkIP_pMQ"
      }
    },
    {
      "cell_type": "markdown",
      "source": [
        "Q8. : What is the concept of expected value in a probability distribution?\n",
        "\n",
        "Ans: The expected value of a random variable is the long-run average outcome you would expect if an experiment were repeated infinitely many times.\n",
        "\n",
        "It’s essentially the weighted average of all possible outcomes, where the weights are their probabilities.\n",
        "\n",
        "How to Calculate Expected Value:\n",
        "\n",
        "The formula for expected value, denoted as E(X) or μ, is:\n",
        "\n",
        " *E(X) = Σ (x and P(X=x)).\n",
        "\n",
        "Where:\n",
        "\n",
        "x: represents each possible outcome of the random variable.\n",
        "\n",
        "P(X=x): represents the probability of that specific outcome.\n",
        "\n",
        "Example: Rolling a Die:\n",
        "\n",
        "For a fair six-sided die, the possible outcomes are 1, 2, 3, 4, 5, and 6, each with a probability of 1/6.\n",
        "\n",
        "E(X) = (1 * 1/6) + (2 * 1/6) + (3 * 1/6) + (4 * 1/6) + (5 * 1/6) + (6 * 1/6)\n",
        "\n",
        "E(X) = (1 + 2 + 3 + 4 + 5 + 6) / 6 = 21 / 6 = 3.5\n",
        "\n",
        "The expected value of rolling a fair die is 3.5, even though 3.5 is not a possible outcome.\n"
      ],
      "metadata": {
        "id": "c043ayFKCvTS"
      }
    },
    {
      "cell_type": "markdown",
      "source": [
        "Q9.Write a Python program to generate 1000 random numbers from a normal distribution with mean = 50 and standard deviation = 5. Compute its mean and standard deviation using NumPy, and draw a histogram to visualize the distribution.\n"
      ],
      "metadata": {
        "id": "SoGRGTDlD1oT"
      }
    },
    {
      "cell_type": "code",
      "source": [
        "import numpy as np\n",
        "import matplotlib.pyplot as plt\n",
        "\n",
        "# Step 1: Generate 1000 random numbers from Normal(mean=50, std=5)\n",
        "data = np.random.normal(loc=50, scale=5, size=1000)\n",
        "\n",
        "# Step 2: Compute mean and standard deviation\n",
        "mean_val = np.mean(data)\n",
        "std_val = np.std(data)\n",
        "\n",
        "print(f\"Sample Mean: {mean_val:.2f}\")\n",
        "print(f\"Sample Standard Deviation: {std_val:.2f}\")\n",
        "\n",
        "# Step 3: Draw histogram\n",
        "plt.hist(data, bins=30, edgecolor='black', alpha=0.7)\n",
        "plt.title(\"Histogram of Normally Distributed Data (μ=50, σ=5)\")\n",
        "plt.xlabel(\"Value\")\n",
        "plt.ylabel(\"Frequency\")\n",
        "plt.axvline(mean_val, color='red', linestyle='dashed', linewidth=2, label=f\"Mean = {mean_val:.2f}\")\n",
        "plt.legend()\n",
        "plt.show()\n"
      ],
      "metadata": {
        "colab": {
          "base_uri": "https://localhost:8080/",
          "height": 509
        },
        "id": "9xf0VZDKEZgc",
        "outputId": "7ff71445-1b05-4e8d-a84d-521d4f2c6d31"
      },
      "execution_count": 1,
      "outputs": [
        {
          "output_type": "stream",
          "name": "stdout",
          "text": [
            "Sample Mean: 49.95\n",
            "Sample Standard Deviation: 5.05\n"
          ]
        },
        {
          "output_type": "display_data",
          "data": {
            "text/plain": [
              "<Figure size 640x480 with 1 Axes>"
            ],
            "image/png": "[encoded data removed]"
          },
          "metadata": {}
        }
      ]
    },
    {
      "cell_type": "markdown",
      "source": [
        "Q10.  You are working as a data analyst for a retail company. The company has collected daily sales data for 2 years and wants you to identify the overall sales trend.\n",
        "\n",
        "daily_sales = [220, 245, 210, 265, 230, 250, 260, 275, 240, 255,\n",
        "235, 260, 245, 250, 225, 270, 265, 255, 250, 260]\n",
        "\n",
        "● Explain how you would apply the Central Limit Theorem to estimate the average sales with a 95% confidence interval.\n",
        "\n",
        "● Write the Python code to compute the mean sales and its confidence interval."
      ],
      "metadata": {
        "id": "VW9rEfKNEjET"
      }
    },
    {
      "cell_type": "code",
      "source": [
        "import numpy as np\n",
        "import scipy.stats as st\n",
        "\n",
        "# Daily sales data\n",
        "daily_sales = [220, 245, 210, 265, 230, 250, 260, 275, 240, 255,\n",
        "               235, 260, 245, 250, 225, 270, 265, 255, 250, 260]\n",
        "\n",
        "# Convert to numpy array\n",
        "data = np.array(daily_sales)\n",
        "\n",
        "# Sample statistics\n",
        "mean_sales = np.mean(data)\n",
        "std_sales = np.std(data, ddof=1)  # use sample std (ddof=1)\n",
        "n = len(data)\n",
        "\n",
        "# 95% confidence interval using CLT\n",
        "confidence_level = 0.95\n",
        "z_score = st.norm.ppf(1 - (1 - confidence_level)/2)  # 1.96 for 95%\n",
        "\n",
        "margin_of_error = z_score * (std_sales / np.sqrt(n))\n",
        "ci_lower = mean_sales - margin_of_error\n",
        "ci_upper = mean_sales + margin_of_error\n",
        "\n",
        "print(f\"Mean Daily Sales: {mean_sales:.2f}\")\n",
        "print(f\"95% Confidence Interval: ({ci_lower:.2f}, {ci_upper:.2f})\")\n",
        "\n"
      ],
      "metadata": {
        "colab": {
          "base_uri": "https://localhost:8080/"
        },
        "id": "bNNv8v50F5xM",
        "outputId": "a4734c45-251c-4b2d-85e0-bae60b265aae"
      },
      "execution_count": 2,
      "outputs": [
        {
          "output_type": "stream",
          "name": "stdout",
          "text": [
            "Mean Daily Sales: 248.25\n",
            "95% Confidence Interval: (240.68, 255.82)\n"
          ]
        }
      ]
    }
  ]
}